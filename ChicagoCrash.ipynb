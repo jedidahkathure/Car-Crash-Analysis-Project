{
 "cells": [
  {
   "cell_type": "markdown",
   "metadata": {},
   "source": [
    "##                                    Chicago Car Crash Analysis"
   ]
  },
  {
   "cell_type": "markdown",
   "metadata": {},
   "source": [
    "## Overview\n",
    "\n",
    "Road safety remains a critical public health concern in major cities around the world, including Chicago. In an effort to improve traffic safety and reduce the frequency and severity of car accidents, the Chicago Department of Transportation has initiated a data-driven investigation into the primary causes of motor vehicle crashes within the city.\n",
    "\n",
    "This project aims to develop a predictive model that identifies the primary contributory cause of car accidents using data drawn from three key sources: vehicle characteristics, driver and passenger information, and environmental factors such as road conditions and weather. By analyzing these diverse datasets, the model will help uncover underlying patterns and risk factors associated with traffic accidents.\n",
    "\n",
    "The insights generated will support data-informed decision-making, enabling city officials to implement targeted safety interventions, design better infrastructure, and ultimately make Chicago’s roads safer for all users."
   ]
  },
  {
   "cell_type": "markdown",
   "metadata": {},
   "source": [
    "## Business Understanding"
   ]
  },
  {
   "cell_type": "markdown",
   "metadata": {},
   "source": [
    "The Chicago Department of Transportation aims to investigate the root causes of car crashes within the city. This project seeks to build a predictive model that identifies the primary contributory cause of a car accident by analyzing comprehensive data from vehicles, drivers/passengers, and the environment. By leveraging this multi-source dataset, the goal is to uncover patterns that can inform targeted interventions, enhance road safety, and reduce accident rates across Chicago."
   ]
  },
  {
   "cell_type": "markdown",
   "metadata": {},
   "source": [
    "## Stakeholders\n",
    "\n",
    "\n",
    "1. City of Chicago Transportation Department : to guide policies and interventions to improve road safety.\n",
    "\n",
    "2. Vehicle Safety Boards : to influence regulations on vehicle safety features.\n",
    "\n",
    "3. Public Health & Law Enforcement : to identify high-risk patterns and take preventive action."
   ]
  },
  {
   "cell_type": "markdown",
   "metadata": {},
   "source": [
    "## Key Questions This Project Aims to Answer:\n",
    "\n",
    "1. What are the leading causes of accidents in Chicago?\n",
    "\n",
    "2. Can we predict why a crash occurred based on who was driving, what they were driving, and under what conditions?\n",
    "\n",
    "3. Are there specific car types, road conditions, or human behaviors consistently linked with particular causes?\n",
    "\n",
    "4. How can the city use this information to reduce crash frequency and severity?\n"
   ]
  },
  {
   "cell_type": "markdown",
   "metadata": {},
   "source": [
    "## Data Understanding"
   ]
  },
  {
   "cell_type": "code",
   "execution_count": null,
   "metadata": {},
   "outputs": [],
   "source": []
  }
 ],
 "metadata": {
  "kernelspec": {
   "display_name": "learn-env",
   "language": "python",
   "name": "python3"
  },
  "language_info": {
   "name": "python",
   "version": "3.8.5"
  }
 },
 "nbformat": 4,
 "nbformat_minor": 2
}
